{
 "cells": [
  {
   "cell_type": "markdown",
   "id": "cc2027dc-5893-4359-b6d3-507263efd268",
   "metadata": {},
   "source": [
    "# Dating App Reviews: Exploring Dataset and Data Wrangling"
   ]
  },
  {
   "cell_type": "code",
   "execution_count": 1,
   "id": "fe7e63a7-7330-4f23-b0d8-ca205d6914db",
   "metadata": {},
   "outputs": [],
   "source": [
    "import numpy as np\n",
    "import pandas as pd\n",
    "import matplotlib.pyplot as plt"
   ]
  },
  {
   "cell_type": "code",
   "execution_count": 2,
   "id": "e2e06db6-572f-42bf-ad9c-982dd5999027",
   "metadata": {
    "tags": []
   },
   "outputs": [
    {
     "data": {
      "text/html": [
       "<div>\n",
       "<style scoped>\n",
       "    .dataframe tbody tr th:only-of-type {\n",
       "        vertical-align: middle;\n",
       "    }\n",
       "\n",
       "    .dataframe tbody tr th {\n",
       "        vertical-align: top;\n",
       "    }\n",
       "\n",
       "    .dataframe thead th {\n",
       "        text-align: right;\n",
       "    }\n",
       "</style>\n",
       "<table border=\"1\" class=\"dataframe\">\n",
       "  <thead>\n",
       "    <tr style=\"text-align: right;\">\n",
       "      <th></th>\n",
       "      <th>Unnamed: 0</th>\n",
       "      <th>Name</th>\n",
       "      <th>Review</th>\n",
       "      <th>Rating</th>\n",
       "      <th>#ThumbsUp</th>\n",
       "      <th>Date&amp;Time</th>\n",
       "      <th>App</th>\n",
       "    </tr>\n",
       "  </thead>\n",
       "  <tbody>\n",
       "    <tr>\n",
       "      <th>0</th>\n",
       "      <td>0</td>\n",
       "      <td>linah sibanda</td>\n",
       "      <td>On this app i cant find a partner</td>\n",
       "      <td>5</td>\n",
       "      <td>0</td>\n",
       "      <td>18-02-2022 01:19</td>\n",
       "      <td>Tinder</td>\n",
       "    </tr>\n",
       "    <tr>\n",
       "      <th>1</th>\n",
       "      <td>1</td>\n",
       "      <td>Norman Johnson</td>\n",
       "      <td>Tinder would be so much better if we could spe...</td>\n",
       "      <td>3</td>\n",
       "      <td>0</td>\n",
       "      <td>18-02-2022 01:16</td>\n",
       "      <td>Tinder</td>\n",
       "    </tr>\n",
       "    <tr>\n",
       "      <th>2</th>\n",
       "      <td>2</td>\n",
       "      <td>David Hume</td>\n",
       "      <td>Still doesn't correctly notify matches or mess...</td>\n",
       "      <td>1</td>\n",
       "      <td>0</td>\n",
       "      <td>18-02-2022 01:11</td>\n",
       "      <td>Tinder</td>\n",
       "    </tr>\n",
       "    <tr>\n",
       "      <th>3</th>\n",
       "      <td>3</td>\n",
       "      <td>Last 1 Standing</td>\n",
       "      <td>Got banned because I updated my bio to say \"I ...</td>\n",
       "      <td>2</td>\n",
       "      <td>0</td>\n",
       "      <td>18-02-2022 01:11</td>\n",
       "      <td>Tinder</td>\n",
       "    </tr>\n",
       "    <tr>\n",
       "      <th>4</th>\n",
       "      <td>4</td>\n",
       "      <td>Arthur Magamedov</td>\n",
       "      <td>Love it!</td>\n",
       "      <td>5</td>\n",
       "      <td>0</td>\n",
       "      <td>18-02-2022 01:06</td>\n",
       "      <td>Tinder</td>\n",
       "    </tr>\n",
       "  </tbody>\n",
       "</table>\n",
       "</div>"
      ],
      "text/plain": [
       "   Unnamed: 0              Name  \\\n",
       "0           0     linah sibanda   \n",
       "1           1    Norman Johnson   \n",
       "2           2        David Hume   \n",
       "3           3   Last 1 Standing   \n",
       "4           4  Arthur Magamedov   \n",
       "\n",
       "                                              Review  Rating  #ThumbsUp  \\\n",
       "0                  On this app i cant find a partner       5          0   \n",
       "1  Tinder would be so much better if we could spe...       3          0   \n",
       "2  Still doesn't correctly notify matches or mess...       1          0   \n",
       "3  Got banned because I updated my bio to say \"I ...       2          0   \n",
       "4                                           Love it!       5          0   \n",
       "\n",
       "          Date&Time     App  \n",
       "0  18-02-2022 01:19  Tinder  \n",
       "1  18-02-2022 01:16  Tinder  \n",
       "2  18-02-2022 01:11  Tinder  \n",
       "3  18-02-2022 01:11  Tinder  \n",
       "4  18-02-2022 01:06  Tinder  "
      ]
     },
     "execution_count": 2,
     "metadata": {},
     "output_type": "execute_result"
    }
   ],
   "source": [
    "dating_apps = pd.read_csv(\"DatingAppReviewsDataset.csv\")\n",
    "dating_apps.head()"
   ]
  },
  {
   "cell_type": "code",
   "execution_count": 3,
   "id": "cb506b17-bcd6-4304-8b3e-0759ce40d9b7",
   "metadata": {},
   "outputs": [
    {
     "data": {
      "text/plain": [
       "(681994, 7)"
      ]
     },
     "execution_count": 3,
     "metadata": {},
     "output_type": "execute_result"
    }
   ],
   "source": [
    "dating_apps.shape"
   ]
  },
  {
   "cell_type": "code",
   "execution_count": 4,
   "id": "1b6413da-2ce4-48f1-a394-0ccd69c4e722",
   "metadata": {},
   "outputs": [
    {
     "name": "stdout",
     "output_type": "stream",
     "text": [
      "<class 'pandas.core.frame.DataFrame'>\n",
      "RangeIndex: 681994 entries, 0 to 681993\n",
      "Data columns (total 7 columns):\n",
      " #   Column      Non-Null Count   Dtype \n",
      "---  ------      --------------   ----- \n",
      " 0   Unnamed: 0  681994 non-null  int64 \n",
      " 1   Name        681989 non-null  object\n",
      " 2   Review      680642 non-null  object\n",
      " 3   Rating      681994 non-null  int64 \n",
      " 4   #ThumbsUp   681994 non-null  int64 \n",
      " 5   Date&Time   681994 non-null  object\n",
      " 6   App         681994 non-null  object\n",
      "dtypes: int64(3), object(4)\n",
      "memory usage: 36.4+ MB\n"
     ]
    }
   ],
   "source": [
    "dating_apps.info()"
   ]
  },
  {
   "cell_type": "code",
   "execution_count": 5,
   "id": "1971fb1f-f975-48b9-8e09-7f5950167910",
   "metadata": {},
   "outputs": [
    {
     "data": {
      "text/plain": [
       "Unnamed: 0             int64\n",
       "Name                  object\n",
       "Review                object\n",
       "Rating                 int64\n",
       "#ThumbsUp              int64\n",
       "Date&Time     datetime64[ns]\n",
       "App                   object\n",
       "dtype: object"
      ]
     },
     "execution_count": 5,
     "metadata": {},
     "output_type": "execute_result"
    }
   ],
   "source": [
    "#Notice that Date&Time column is not type:datetime \n",
    "dating_apps['Date&Time']= pd.to_datetime(dating_apps['Date&Time'])\n",
    "dating_apps.dtypes"
   ]
  },
  {
   "cell_type": "code",
   "execution_count": 6,
   "id": "3b2fb9fb-7605-4b61-8d39-1cf51d1479fa",
   "metadata": {},
   "outputs": [
    {
     "data": {
      "text/plain": [
       "Unnamed: 0  Name   Review  Rating  #ThumbsUp  Date&Time  App  \n",
       "False       False  False   False   False      False      False    680637\n",
       "                   True    False   False      False      False      1352\n",
       "            True   False   False   False      False      False         5\n",
       "dtype: int64"
      ]
     },
     "execution_count": 6,
     "metadata": {},
     "output_type": "execute_result"
    }
   ],
   "source": [
    "#Checking for null values\n",
    "missing_data = dating_apps.isnull()\n",
    "missing_data.value_counts()\n",
    "#Notice that there exist null values for Name & Review"
   ]
  },
  {
   "cell_type": "code",
   "execution_count": 7,
   "id": "aedc4b58-7d66-4807-944a-21ec16a22a25",
   "metadata": {
    "tags": []
   },
   "outputs": [
    {
     "name": "stdout",
     "output_type": "stream",
     "text": [
      "5 missing values in Name column\n",
      "1352 missing values in Review column\n"
     ]
    }
   ],
   "source": [
    "# However, Name & Review is a string, and it does not effect my findings\n",
    "# and none of numerical values are missing, so we just leave the missing values for now\n",
    "print(missing_data['Name'].value_counts()[1], \"missing values in Name column\")\n",
    "print(missing_data['Review'].value_counts()[1], \"missing values in Review column\")"
   ]
  },
  {
   "cell_type": "code",
   "execution_count": 8,
   "id": "36375b60-b560-4ca1-94bd-986fda2bd91e",
   "metadata": {},
   "outputs": [
    {
     "data": {
      "text/plain": [
       "681994"
      ]
     },
     "execution_count": 8,
     "metadata": {},
     "output_type": "execute_result"
    }
   ],
   "source": [
    "#No duplicate data exists\n",
    "dating_apps=dating_apps.drop_duplicates()\n",
    "dating_apps.shape[0]"
   ]
  },
  {
   "cell_type": "code",
   "execution_count": 9,
   "id": "6bad1e61-ea0e-487e-a582-2f5fdc2607af",
   "metadata": {},
   "outputs": [
    {
     "data": {
      "text/plain": [
       "1    251969\n",
       "5    233464\n",
       "4     87347\n",
       "3     56958\n",
       "2     52255\n",
       "0         1\n",
       "Name: Rating, dtype: int64"
      ]
     },
     "execution_count": 9,
     "metadata": {},
     "output_type": "execute_result"
    }
   ],
   "source": [
    "#Error in data value\n",
    "#Notice that there is value 0 in Rating\n",
    "dating_apps['Rating'].value_counts()"
   ]
  },
  {
   "cell_type": "code",
   "execution_count": 10,
   "id": "11f20167-3bdb-4611-b104-ad3cb5bbdb40",
   "metadata": {},
   "outputs": [
    {
     "data": {
      "text/html": [
       "<div>\n",
       "<style scoped>\n",
       "    .dataframe tbody tr th:only-of-type {\n",
       "        vertical-align: middle;\n",
       "    }\n",
       "\n",
       "    .dataframe tbody tr th {\n",
       "        vertical-align: top;\n",
       "    }\n",
       "\n",
       "    .dataframe thead th {\n",
       "        text-align: right;\n",
       "    }\n",
       "</style>\n",
       "<table border=\"1\" class=\"dataframe\">\n",
       "  <thead>\n",
       "    <tr style=\"text-align: right;\">\n",
       "      <th></th>\n",
       "      <th>Unnamed: 0</th>\n",
       "      <th>Name</th>\n",
       "      <th>Review</th>\n",
       "      <th>Rating</th>\n",
       "      <th>#ThumbsUp</th>\n",
       "      <th>Date&amp;Time</th>\n",
       "      <th>App</th>\n",
       "    </tr>\n",
       "  </thead>\n",
       "  <tbody>\n",
       "    <tr>\n",
       "      <th>272613</th>\n",
       "      <td>272613</td>\n",
       "      <td>Rahul soren</td>\n",
       "      <td>Love it but ...my match is not replying its a ...</td>\n",
       "      <td>0</td>\n",
       "      <td>0</td>\n",
       "      <td>2018-05-27 23:45:00</td>\n",
       "      <td>Tinder</td>\n",
       "    </tr>\n",
       "  </tbody>\n",
       "</table>\n",
       "</div>"
      ],
      "text/plain": [
       "        Unnamed: 0         Name  \\\n",
       "272613      272613  Rahul soren   \n",
       "\n",
       "                                                   Review  Rating  #ThumbsUp  \\\n",
       "272613  Love it but ...my match is not replying its a ...       0          0   \n",
       "\n",
       "                 Date&Time     App  \n",
       "272613 2018-05-27 23:45:00  Tinder  "
      ]
     },
     "execution_count": 10,
     "metadata": {},
     "output_type": "execute_result"
    }
   ],
   "source": [
    "dating_apps.loc[~dating_apps['Rating'].isin((1,2,3,4,5))]"
   ]
  },
  {
   "cell_type": "code",
   "execution_count": 11,
   "id": "4dd23ae2-2f53-4e76-a9b9-bf7402db7571",
   "metadata": {},
   "outputs": [
    {
     "name": "stdout",
     "output_type": "stream",
     "text": [
      "Love it but ...my match is not replying its a prblm on app or smthing else \n",
      "please tell me\n"
     ]
    }
   ],
   "source": [
    "#Let's see the Review for this value\n",
    "print(list(dating_apps.loc[~dating_apps['Rating'].isin((1,2,3,4,5))]['Review'])[0])"
   ]
  },
  {
   "cell_type": "code",
   "execution_count": 12,
   "id": "a8cde29d-d3cd-4345-b858-15ee256a2507",
   "metadata": {},
   "outputs": [
    {
     "data": {
      "text/plain": [
       "1    251970\n",
       "5    233464\n",
       "4     87347\n",
       "3     56958\n",
       "2     52255\n",
       "Name: Rating, dtype: int64"
      ]
     },
     "execution_count": 12,
     "metadata": {},
     "output_type": "execute_result"
    }
   ],
   "source": [
    "#Replace the Rating:0 to value that contains most value in Tinder\n",
    "dating_apps['Rating'].replace(0, dating_apps.loc[dating_apps['App'] == 'Tinder']['Rating'].value_counts()\n",
    "                              .idxmax(), inplace=True)\n",
    "dating_apps['Rating'].value_counts()"
   ]
  },
  {
   "cell_type": "code",
   "execution_count": 13,
   "id": "904ae190-b7f2-46ac-8f70-25962bf6444b",
   "metadata": {},
   "outputs": [],
   "source": [
    "dating_apps.to_csv('Dating_Apps.csv', index=False)"
   ]
  },
  {
   "cell_type": "code",
   "execution_count": null,
   "id": "151c8da5-8ea4-4700-b6db-ec566ac2bba9",
   "metadata": {},
   "outputs": [],
   "source": []
  }
 ],
 "metadata": {
  "kernelspec": {
   "display_name": "Python 3 (ipykernel)",
   "language": "python",
   "name": "python3"
  },
  "language_info": {
   "codemirror_mode": {
    "name": "ipython",
    "version": 3
   },
   "file_extension": ".py",
   "mimetype": "text/x-python",
   "name": "python",
   "nbconvert_exporter": "python",
   "pygments_lexer": "ipython3",
   "version": "3.10.2"
  }
 },
 "nbformat": 4,
 "nbformat_minor": 5
}
